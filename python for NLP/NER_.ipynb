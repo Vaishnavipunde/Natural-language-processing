{
  "cells": [
    {
      "cell_type": "code",
      "execution_count": 1,
      "metadata": {
        "id": "8QfvT7s5FnjR"
      },
      "outputs": [],
      "source": [
        "import spacy"
      ]
    },
    {
      "cell_type": "code",
      "execution_count": 9,
      "metadata": {
        "colab": {
          "base_uri": "https://localhost:8080/"
        },
        "id": "PkwnJvDNF3jV",
        "outputId": "6badb7ab-fbdb-442f-c7b5-c1328a1cab9c"
      },
      "outputs": [
        {
          "data": {
            "text/plain": [
              "['tok2vec', 'tagger', 'parser', 'attribute_ruler', 'lemmatizer', 'ner']"
            ]
          },
          "execution_count": 9,
          "metadata": {},
          "output_type": "execute_result"
        }
      ],
      "source": [
        "nlp=spacy.load(\"en_core_web_sm\")\n",
        "nlp.pipe_names"
      ]
    },
    {
      "cell_type": "code",
      "execution_count": 10,
      "metadata": {
        "colab": {
          "base_uri": "https://localhost:8080/"
        },
        "id": "_IYIowFLGDzR",
        "outputId": "e28a5e60-2251-4c17-cc81-13e5ff235d73"
      },
      "outputs": [
        {
          "name": "stdout",
          "output_type": "stream",
          "text": [
            "Tesla Inc | ORG | Companies, agencies, institutions, etc.\n",
            "Twitter Inc | ORG | Companies, agencies, institutions, etc.\n",
            "$45 billion | MONEY | Monetary values, including unit\n"
          ]
        }
      ],
      "source": [
        "doc=nlp(\"Tesla Inc is going to acquire Twitter Inc for $45 billion\")\n",
        "for ent in doc.ents:\n",
        "  print(ent.text, \"|\",ent.label_, \"|\",spacy.explain(ent.label_))"
      ]
    },
    {
      "cell_type": "code",
      "execution_count": 11,
      "metadata": {
        "colab": {
          "base_uri": "https://localhost:8080/"
        },
        "id": "9vb3SmblIGYo",
        "outputId": "48f05260-5603-457c-c755-d3ac28ea5b3f"
      },
      "outputs": [
        {
          "data": {
            "text/plain": [
              "['CARDINAL',\n",
              " 'DATE',\n",
              " 'EVENT',\n",
              " 'FAC',\n",
              " 'GPE',\n",
              " 'LANGUAGE',\n",
              " 'LAW',\n",
              " 'LOC',\n",
              " 'MONEY',\n",
              " 'NORP',\n",
              " 'ORDINAL',\n",
              " 'ORG',\n",
              " 'PERCENT',\n",
              " 'PERSON',\n",
              " 'PRODUCT',\n",
              " 'QUANTITY',\n",
              " 'TIME',\n",
              " 'WORK_OF_ART']"
            ]
          },
          "execution_count": 11,
          "metadata": {},
          "output_type": "execute_result"
        }
      ],
      "source": [
        "nlp.pipe_labels[\"ner\"]"
      ]
    },
    {
      "cell_type": "code",
      "execution_count": 12,
      "metadata": {
        "colab": {
          "base_uri": "https://localhost:8080/"
        },
        "id": "SH9TsvFLJMUu",
        "outputId": "e96f0a50-f538-4f7a-8f72-bf1886c8ee34"
      },
      "outputs": [
        {
          "name": "stdout",
          "output_type": "stream",
          "text": [
            "Michael Bloomberge | PERSON | People, including fictional\n",
            "Bloomberg | ORG | Companies, agencies, institutions, etc.\n",
            "1982 | DATE | Absolute or relative dates or periods\n"
          ]
        }
      ],
      "source": [
        "\n",
        "doc=nlp(\"Michael Bloomberge founded Bloomberg in 1982\")\n",
        "for ent in doc.ents:\n",
        "  print(ent.text, \"|\",ent.label_, \"|\",spacy.explain(ent.label_))"
      ]
    },
    {
      "cell_type": "code",
      "execution_count": 15,
      "metadata": {
        "colab": {
          "base_uri": "https://localhost:8080/"
        },
        "id": "QkFgYkpBKXWN",
        "outputId": "338ce7d1-0fcb-4bf9-baa2-ce1a58b77888"
      },
      "outputs": [
        {
          "name": "stdout",
          "output_type": "stream",
          "text": [
            "Michael Bloomberge | PERSON\n",
            "Bloomberg | ORG\n",
            "1982 | DATE\n"
          ]
        }
      ],
      "source": [
        "\n",
        "doc=nlp(\"Michael Bloomberge founded Bloomberg in 1982\")\n",
        "for ent in doc.ents:\n",
        "  print(ent.text, \"|\",ent.label_)"
      ]
    },
    {
      "cell_type": "code",
      "execution_count": 16,
      "metadata": {
        "colab": {
          "base_uri": "https://localhost:8080/"
        },
        "id": "E1lhgi7LKz2d",
        "outputId": "9c390070-09c2-4e47-ccdb-7496ab71fad5"
      },
      "outputs": [
        {
          "data": {
            "text/plain": [
              "founded Bloomberg in"
            ]
          },
          "execution_count": 16,
          "metadata": {},
          "output_type": "execute_result"
        }
      ],
      "source": [
        "s=doc[2:5]\n",
        "s"
      ]
    },
    {
      "cell_type": "code",
      "execution_count": 17,
      "metadata": {
        "colab": {
          "base_uri": "https://localhost:8080/"
        },
        "id": "PjV0eIe-K7l0",
        "outputId": "0c7b71f8-078c-4766-9cc6-a9ed8bc91f7e"
      },
      "outputs": [
        {
          "data": {
            "text/plain": [
              "spacy.tokens.span.Span"
            ]
          },
          "execution_count": 17,
          "metadata": {},
          "output_type": "execute_result"
        }
      ],
      "source": [
        "type(s)"
      ]
    },
    {
      "cell_type": "code",
      "execution_count": 19,
      "metadata": {
        "id": "apwNF5UQK-8W"
      },
      "outputs": [],
      "source": [
        "from spacy.tokens import Span\n",
        "\n",
        "s1=Span(doc,0,1,label=\"ORG\")\n",
        "s2=Span(doc,5,6,label=\"ORG\")\n",
        "doc.set_ents([s1,s2],default=\"unmodified\")"
      ]
    },
    {
      "cell_type": "code",
      "execution_count": 20,
      "metadata": {
        "colab": {
          "base_uri": "https://localhost:8080/"
        },
        "id": "kOkvuHcrLeNB",
        "outputId": "fe361794-0449-4c52-a56c-c7cfe728163a"
      },
      "outputs": [
        {
          "name": "stdout",
          "output_type": "stream",
          "text": [
            "Michael | ORG\n",
            "Bloomberge | PERSON\n",
            "Bloomberg | ORG\n",
            "1982 | ORG\n"
          ]
        }
      ],
      "source": [
        "for ent in doc.ents:\n",
        "  print(ent.text,\"|\",ent.label_)"
      ]
    },
    {
      "cell_type": "code",
      "execution_count": null,
      "metadata": {
        "id": "yW2eixipLvlr"
      },
      "outputs": [],
      "source": []
    }
  ],
  "metadata": {
    "colab": {
      "provenance": []
    },
    "kernelspec": {
      "display_name": "Python 3",
      "name": "python3"
    },
    "language_info": {
      "name": "python"
    }
  },
  "nbformat": 4,
  "nbformat_minor": 0
}
